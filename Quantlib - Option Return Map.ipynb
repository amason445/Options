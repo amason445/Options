{
 "cells": [
  {
   "cell_type": "code",
   "execution_count": null,
   "metadata": {},
   "outputs": [],
   "source": [
    "from QuantLib import *\n",
    "import pandas as pd\n",
    "import numpy as np"
   ]
  },
  {
   "cell_type": "code",
   "execution_count": null,
   "metadata": {},
   "outputs": [],
   "source": [
    "today = Date(21, December, 2020)\n",
    "Settings.instance().evaluationDate = today"
   ]
  },
  {
   "cell_type": "code",
   "execution_count": null,
   "metadata": {},
   "outputs": [],
   "source": [
    "strike = 130.0\n",
    "maturity = Date(18,6,2021)\n",
    "option_type = Option.Call\n",
    "\n",
    "payoff = PlainVanillaPayoff(option_type, strike)\n",
    "\n",
    "americanExercise = AmericanExercise(Date().todaysDate(), maturity)\n",
    "americanOption = VanillaOption(payoff, americanExercise)\n",
    "americanOption2 = VanillaOption(payoff, americanExercise)"
   ]
  },
  {
   "cell_type": "code",
   "execution_count": null,
   "metadata": {},
   "outputs": [],
   "source": [
    "u = SimpleQuote(127.30)\n",
    "riskFreeTS = YieldTermStructureHandle(FlatForward(today, 0.0028, Actual365Fixed()))\n",
    "dividendTS = YieldTermStructureHandle(FlatForward(today, 0.0017, Actual365Fixed()))\n",
    "volatility = BlackVolTermStructureHandle(BlackConstantVol(today, UnitedStates(), 0.4255, Actual365Fixed()))\n",
    "initialValue = QuoteHandle(u)\n",
    "process = BlackScholesMertonProcess(initialValue, dividendTS, riskFreeTS, volatility)\n",
    "\n",
    "steps = 200\n",
    "rng = \"pseudorandom\" # could use \"lowdiscrepancy\"\n",
    "numPaths = 100000\n",
    "\n",
    "engine = MCAmericanEngine(process, rng, steps, requiredSamples=numPaths)"
   ]
  },
  {
   "cell_type": "code",
   "execution_count": null,
   "metadata": {},
   "outputs": [],
   "source": [
    "americanOption.setPricingEngine(engine)"
   ]
  },
  {
   "cell_type": "code",
   "execution_count": null,
   "metadata": {},
   "outputs": [],
   "source": [
    "optionCurrent = float(americanOption.NPV())\n",
    "optionCurrent"
   ]
  },
  {
   "cell_type": "code",
   "execution_count": null,
   "metadata": {},
   "outputs": [],
   "source": [
    "range1 = np.arange(127.30, 150, 0.1)\n",
    "futureList = []\n",
    "for i in range1:\n",
    "    u.setValue(float(i))\n",
    "    price = americanOption.NPV()\n",
    "    futureList.append(price)\n",
    "print(futureList)"
   ]
  },
  {
   "cell_type": "code",
   "execution_count": null,
   "metadata": {},
   "outputs": [],
   "source": [
    "ReturnList = []\n",
    "for i in futureList:\n",
    "    return1 = ((i - optionCurrent) / optionCurrent) * 100\n",
    "    ReturnList.append(return1)"
   ]
  },
  {
   "cell_type": "code",
   "execution_count": null,
   "metadata": {},
   "outputs": [],
   "source": [
    "ReturnList"
   ]
  },
  {
   "cell_type": "code",
   "execution_count": null,
   "metadata": {},
   "outputs": [],
   "source": [
    "import matplotlib.pyplot as plt\n",
    "\n",
    "plt.plot(range1,ReturnList)\n",
    "plt.title('% Returns as ARKK210618C 130 Approaches the Money (eval. 12/21/2020)')\n",
    "plt.xlabel('Spot Price')\n",
    "plt.ylabel('Return %')\n",
    "plt.show()"
   ]
  },
  {
   "cell_type": "code",
   "execution_count": null,
   "metadata": {},
   "outputs": [],
   "source": []
  }
 ],
 "metadata": {
  "kernelspec": {
   "display_name": "Python 3",
   "language": "python",
   "name": "python3"
  },
  "language_info": {
   "codemirror_mode": {
    "name": "ipython",
    "version": 3
   },
   "file_extension": ".py",
   "mimetype": "text/x-python",
   "name": "python",
   "nbconvert_exporter": "python",
   "pygments_lexer": "ipython3",
   "version": "3.8.7"
  }
 },
 "nbformat": 4,
 "nbformat_minor": 4
}
